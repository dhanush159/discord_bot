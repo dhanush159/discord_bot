{
 "cells": [
  {
   "cell_type": "code",
   "execution_count": 8,
   "metadata": {},
   "outputs": [],
   "source": [
    "# discord bot to recommend songs based on gener,year,artist entered by user using csv file using discord.py\n",
    "\n",
    "import discord\n",
    "import pandas as pd\n",
    "import random\n",
    "import numpy as np\n",
    "from discord.ext import commands\n",
    "import nest_asyncio\n",
    "nest_asyncio.apply()\n",
    "\n",
    "token = \"MTE0MzIwMTMxNzYxMTkwOTIxMQ.Ge5DiT.lry72Q3c2qoPZv1vnWQAdRaPiT4kt7yZxi5ZD4\"\n"
   ]
  },
  {
   "cell_type": "code",
   "execution_count": 13,
   "metadata": {},
   "outputs": [],
   "source": [
    "# import csv file\n",
    "df = pd.read_csv('top10s.csv')\n",
    "df = df.dropna()\n",
    "df = df.reset_index(drop=True)\n",
    "df = df.drop_duplicates(subset=['artist', 'title'], keep='first')\n",
    "df = df.reset_index(drop=True)\n",
    "\n",
    "# create a list of all the genres\n",
    "genre_list = df['top genre'].unique()\n",
    "genre_list = genre_list.tolist()\n",
    "\n",
    "# create a list of all the years\n",
    "year_list = df['year'].unique()\n",
    "year_list = year_list.tolist()\n",
    "\n",
    "# create a list of all the artists\n",
    "artist_list = df['artist'].unique()\n",
    "artist_list = artist_list.tolist()\n",
    "\n",
    "# create a list of all the songs\n",
    "song_list = df['title'].unique()\n",
    "song_list = song_list.tolist()\n"
   ]
  },
  {
   "cell_type": "code",
   "execution_count": 14,
   "metadata": {},
   "outputs": [
    {
     "name": "stderr",
     "output_type": "stream",
     "text": [
      "[2023-08-21 21:55:55] [INFO    ] discord.client: logging in using static token\n",
      "[2023-08-21 21:55:57] [INFO    ] discord.gateway: Shard ID None has connected to Gateway (Session ID: 05f70df6f694e778a15a1cc1e52eed04).\n"
     ]
    },
    {
     "name": "stdout",
     "output_type": "stream",
     "text": [
      "Bot is ready\n"
     ]
    }
   ],
   "source": [
    "bot = commands.Bot(command_prefix='!',intents=discord.Intents.all())\n",
    "def recommend():\n",
    "    @bot.event\n",
    "    async def on_ready():\n",
    "        print(\"Bot is ready\")\n",
    "\n",
    "    @bot.command()\n",
    "    async def ping(ctx):\n",
    "        await ctx.send(\"pong\")\n",
    "\n",
    "    @bot.command()\n",
    "    async def recommend(ctx,genre,year,artist):\n",
    "        df = pd.read_csv(\"songs.csv\")\n",
    "        df = df[df[\"genre\"]==genre]\n",
    "        df = df[df[\"year\"]==int(year)]\n",
    "        df = df[df[\"artist\"]==artist]\n",
    "        if df.shape[0] == 0:\n",
    "            await ctx.send(\"No songs found\")\n",
    "        else:\n",
    "            await ctx.send(df[\"name\"].iloc[0])\n",
    "\n",
    "    bot.run(token)\n",
    "\n",
    "recommend()"
   ]
  },
  {
   "cell_type": "code",
   "execution_count": null,
   "metadata": {},
   "outputs": [],
   "source": []
  }
 ],
 "metadata": {
  "kernelspec": {
   "display_name": "Python 3",
   "language": "python",
   "name": "python3"
  },
  "language_info": {
   "codemirror_mode": {
    "name": "ipython",
    "version": 3
   },
   "file_extension": ".py",
   "mimetype": "text/x-python",
   "name": "python",
   "nbconvert_exporter": "python",
   "pygments_lexer": "ipython3",
   "version": "3.10.11"
  },
  "orig_nbformat": 4
 },
 "nbformat": 4,
 "nbformat_minor": 2
}
